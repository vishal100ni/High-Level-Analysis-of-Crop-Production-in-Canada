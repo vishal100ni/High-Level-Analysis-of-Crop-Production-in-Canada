{
 "cells": [
  {
   "cell_type": "markdown",
   "metadata": {},
   "source": [
    "<center>\n",
    "    <img src=\"https://s3-api.us-geo.objectstorage.softlayer.net/cf-courses-data/CognitiveClass/Logos/organization_logo/organization_logo.png\" width=\"300\" alt=\"cognitiveclass.ai logo\"  />\n",
    "</center>\n",
    "\n",
    "# Assignment: Notebook for Peer Assignment\n",
    "\n",
    "Estimated time needed: 45 minutes\n"
   ]
  },
  {
   "cell_type": "markdown",
   "metadata": {},
   "source": [
    "# Assignment Scenario\n",
    "\n",
    "Congratulations! You have just been hired by a US Venture Capital firm as a data analyst.\n",
    "\n",
    "The company is considering foreign grain markets to help meet its supply chain requirements for its recent investments in the microbrewery and microdistillery industry, which is involved with the production and distribution of craft beers and spirits.\n",
    "\n",
    "Your first task is to provide a high level analysis of crop production in Canada. Your stakeholders want to understand the current and historical performance of certain crop types in terms of supply and price volatility. For now they are mainly interested in a macro-view of Canada's crop farming industry, and how it relates to the relative value of the Canadian and US dollars.\n"
   ]
  },
  {
   "cell_type": "markdown",
   "metadata": {},
   "source": [
    "# Introduction\n",
    "\n",
    "Using this R notebook you will:\n",
    "\n",
    "1.  Understand four datasets\n",
    "2.  Load the datasets into four separate tables in a Db2 database\n",
    "3.  Execute SQL queries unsing the RODBC R package to answer assignment questions\n",
    "\n",
    "You have already encountered two of these datasets in the previous practice lab. You will be able to reuse much of the work you did there to prepare your database tables for executing SQL queries.\n"
   ]
  },
  {
   "cell_type": "markdown",
   "metadata": {},
   "source": [
    "# Understand the datasets\n",
    "\n",
    "To complete the assignment problems in this notebook you will be using subsetted snapshots of two datasets from Statistics Canada, and one from the Bank of Canada. The links to the prepared datasets are provided in the next section; the interested student can explore the landing pages for the source datasets as follows:\n",
    "\n",
    "1.  <a href=\"https://www150.statcan.gc.ca/t1/tbl1/en/tv.action?utm_medium=Exinfluencer&utm_source=Exinfluencer&utm_content=000026UJ&utm_term=10006555&utm_id=NA-SkillsNetwork-Channel-SkillsNetworkCoursesIBMRP0203ENSkillsNetwork23863830-2021-01-01&pid=3210035901\">Canadian Principal Crops (Data & Metadata)</a>\n",
    "2.  <a href=\"https://www150.statcan.gc.ca/t1/tbl1/en/tv.action?utm_medium=Exinfluencer&utm_source=Exinfluencer&utm_content=000026UJ&utm_term=10006555&utm_id=NA-SkillsNetwork-Channel-SkillsNetworkCoursesIBMRP0203ENSkillsNetwork23863830-2021-01-01&pid=3210007701\">Farm product prices (Data & Metadata)</a>\n",
    "3.  <a href=\"https://www.bankofcanada.ca/rates/exchange/daily-exchange-rates?utm_medium=Exinfluencer&utm_source=Exinfluencer&utm_content=000026UJ&utm_term=10006555&utm_id=NA-SkillsNetwork-Channel-SkillsNetworkCoursesIBMRP0203ENSkillsNetwork23863830-2021-01-01\">Bank of Canada daily average exchange rates</a>\n",
    "\n",
    "### 1. Canadian Principal Crops Data \\*\n",
    "\n",
    "This dataset contains agricultural production measures for the principle crops grown in Canada, including a breakdown by province and teritory, for each year from 1908 to 2020.\n",
    "\n",
    "For this assignment you will use a preprocessed snapshot of this dataset (see below).\n",
    "\n",
    "A detailed description of this dataset can be obtained from the StatsCan Data Portal at:\n",
    "[https://www150.statcan.gc.ca/t1/tbl1/en/tv.action?pid=3210035901](https://www150.statcan.gc.ca/t1/tbl1/en/tv.action?utm_medium=Exinfluencer&utm_source=Exinfluencer&utm_content=000026UJ&utm_term=10006555&utm_id=NA-SkillsNetwork-Channel-SkillsNetworkCoursesIBMRP0203ENSkillsNetwork23863830-2021-01-01&pid=3210035901)\\\n",
    "Detailed information is included in the metadata file and as header text in the data file, which can be downloaded - look for the 'download options' link.\n",
    "\n",
    "### 2. Farm product prices\n",
    "\n",
    "This dataset contains monthly average farm product prices for Canadian crops and livestock by province and teritory, from 1980 to 2020 (or 'last year', whichever is greatest).\n",
    "\n",
    "For this assignment you will use a preprocessed snapshot of this dataset (see below).\n",
    "\n",
    "A description of this dataset can be obtained from the StatsCan Data Portal at:\n",
    "[https://www150.statcan.gc.ca/t1/tbl1/en/tv.action?pid=3210007701](https://www150.statcan.gc.ca/t1/tbl1/en/tv.action?utm_medium=Exinfluencer&utm_source=Exinfluencer&utm_content=000026UJ&utm_term=10006555&utm_id=NA-SkillsNetwork-Channel-SkillsNetworkCoursesIBMRP0203ENSkillsNetwork23863830-2021-01-01&pid=3210007701)\n",
    "The information is included in the metadata file, which can be downloaded - look for the 'download options' link.\n",
    "\n",
    "### 3. Bank of Canada daily average exchange rates \\*\n",
    "\n",
    "This dataset contains the daily average exchange rates for multiple foreign currencies. Exchange rates are expressed as 1 unit of the foreign currency converted into Canadian dollars. It includes only the latest four years of data, and the rates are published once each business day by 16:30 ET.\n",
    "\n",
    "For this assignment you will use a snapshot of this dataset with only the USD-CAD exchange rates included (see next section). We have also prepared a monthly averaged version which you will be using below.\n",
    "\n",
    "A brief description of this dataset and the original dataset can be obtained from the Bank of Canada Data Portal at:\n",
    "[https://www.bankofcanada.ca/rates/exchange/daily-exchange-rates/](https://www.bankofcanada.ca/rates/exchange/daily-exchange-rates/?utm_medium=Exinfluencer&utm_source=Exinfluencer&utm_content=000026UJ&utm_term=10006555&utm_id=NA-SkillsNetwork-Channel-SkillsNetworkCoursesIBMRP0203ENSkillsNetwork23863830-2021-01-01)\n",
    "\n",
    "( \\* these datasets are the same as the ones you used in the practice lab)\n"
   ]
  },
  {
   "cell_type": "markdown",
   "metadata": {},
   "source": [
    "### Dataset URLs\n",
    "\n",
    "1.  Annual Crop Data: <https://cf-courses-data.s3.us.cloud-object-storage.appdomain.cloud/IBM-RP0203EN-SkillsNetwork/labs/Final%20Project/Annual_Crop_Data.csv>\n",
    "\n",
    "2.  Farm product prices: <https://cf-courses-data.s3.us.cloud-object-storage.appdomain.cloud/IBM-RP0203EN-SkillsNetwork/labs/Final%20Project/Monthly_Farm_Prices.csv>\n",
    "\n",
    "3.  Daily FX Data: <https://cf-courses-data.s3.us.cloud-object-storage.appdomain.cloud/IBM-RP0203EN-SkillsNetwork/labs/Final%20Project/Daily_FX.csv>\n",
    "\n",
    "4.  Monthly FX Data: <https://cf-courses-data.s3.us.cloud-object-storage.appdomain.cloud/IBM-RP0203EN-SkillsNetwork/labs/Final%20Project/Monthly_FX.csv>\n",
    "\n",
    "<span style=\"color:red\">**IMPORTANT:**</span> You will be loading these datasets directly into R data frames from these URLs instead of from the StatsCan and Bank of Canada portals. The versions provided at these URLs are simplified and subsetted versions of the original datasets.\n"
   ]
  },
  {
   "cell_type": "markdown",
   "metadata": {},
   "source": [
    "#### Now let's load these datasets into four separate Db2 tables.\n",
    "\n",
    "Let's first load the RODBC package:\n"
   ]
  },
  {
   "cell_type": "code",
   "execution_count": 1,
   "metadata": {},
   "outputs": [],
   "source": [
    "library(RODBC)"
   ]
  },
  {
   "cell_type": "markdown",
   "metadata": {},
   "source": [
    "## Problem 1\n",
    "\n",
    "#### Create tables\n",
    "\n",
    "Establish a connection to the Db2 database, and create the following four tables using the RODBC package in R.\n",
    "Use the separate cells provided below to create each of your tables.\n",
    "\n",
    "1.  **CROP_DATA**\n",
    "2.  **FARM_PRICES**\n",
    "3.  **DAILY_FX**\n",
    "4.  **MONTHLY_FX**\n",
    "\n",
    "The previous practice lab will help you accomplish this.\n"
   ]
  },
  {
   "cell_type": "markdown",
   "metadata": {},
   "source": [
    "### Solution 1\n"
   ]
  },
  {
   "cell_type": "code",
   "execution_count": 2,
   "metadata": {},
   "outputs": [
    {
     "data": {
      "text/html": [
       "<strong>DBMS_Name:</strong> 'DB2/LINUXX8664'"
      ],
      "text/latex": [
       "\\textbf{DBMS\\textbackslash{}\\_Name:} 'DB2/LINUXX8664'"
      ],
      "text/markdown": [
       "**DBMS_Name:** 'DB2/LINUXX8664'"
      ],
      "text/plain": [
       "       DBMS_Name \n",
       "\"DB2/LINUXX8664\" "
      ]
     },
     "metadata": {},
     "output_type": "display_data"
    },
    {
     "data": {
      "text/html": [
       "<strong>DBMS_Ver:</strong> '11.05.0500'"
      ],
      "text/latex": [
       "\\textbf{DBMS\\textbackslash{}\\_Ver:} '11.05.0500'"
      ],
      "text/markdown": [
       "**DBMS_Ver:** '11.05.0500'"
      ],
      "text/plain": [
       "    DBMS_Ver \n",
       "\"11.05.0500\" "
      ]
     },
     "metadata": {},
     "output_type": "display_data"
    },
    {
     "data": {
      "text/html": [
       "<strong>Driver_ODBC_Ver:</strong> '03.51'"
      ],
      "text/latex": [
       "\\textbf{Driver\\textbackslash{}\\_ODBC\\textbackslash{}\\_Ver:} '03.51'"
      ],
      "text/markdown": [
       "**Driver_ODBC_Ver:** '03.51'"
      ],
      "text/plain": [
       "Driver_ODBC_Ver \n",
       "        \"03.51\" "
      ]
     },
     "metadata": {},
     "output_type": "display_data"
    },
    {
     "name": "stdout",
     "output_type": "stream",
     "text": [
      "Table:  CROP_DATA  was dropped\n",
      "Table:  DAILY_FX  was dropped\n",
      "Table:  FARM_PRICES  was dropped\n",
      "Table:  MONTHLY_FX  was dropped\n"
     ]
    }
   ],
   "source": [
    "# Establish database connection\n",
    "  dsn_driver <- \"{IBM DB2 ODBC Driver}\"\n",
    "    dsn_database <- \"bludb\"            # e.g. \"bludb\"\n",
    "    dsn_hostname <- \"************************************\" # e.g \"54a2f15b-5c0f-46df-8954-.databases.appdomain.cloud\"\n",
    "    dsn_port <- \"31321\"   # e.g. \"32733\" \n",
    "    dsn_protocol <- \"TCPIP\"            # i.e. \"TCPIP\"\n",
    "    dsn_uid <- \"***************\"        # e.g. \"zjh17769\"\n",
    "    dsn_pwd <- \"*******************\"      # e.g. \"zcwd4+8gbq9bm5k4\"  \n",
    "    dsn_security <- \"ssl\"\n",
    "\n",
    "    conn_path <- paste(\"DRIVER=\",dsn_driver,\n",
    "                  \";DATABASE=\",dsn_database,\n",
    "                  \";HOSTNAME=\",dsn_hostname,\n",
    "                  \";PORT=\",dsn_port,\n",
    "                  \";PROTOCOL=\",dsn_protocol,\n",
    "                  \";UID=\",dsn_uid,\n",
    "                  \";PWD=\",dsn_pwd,\n",
    "                  \";SECURITY=\",dsn_security,        \n",
    "                    sep=\"\")\n",
    "    conn <- odbcDriverConnect(conn_path, believeNRows=FALSE)\n",
    "\n",
    " # Dump connection info\n",
    "    ##############################################################\n",
    "    sql.info <- sqlTypeInfo(conn)\n",
    "    conn.info <- odbcGetInfo(conn)\n",
    "    conn.info[\"DBMS_Name\"]\n",
    "    conn.info[\"DBMS_Ver\"]\n",
    "    conn.info[\"Driver_ODBC_Ver\"]\n",
    "    \n",
    " tables <- c(\"CROP_DATA\", \"DAILY_FX\", \"FARM_PRICES\", \"MONTHLY_FX\") \n",
    "\n",
    "    for (table in tables) {\n",
    "        # Drop tables if they already exist\n",
    "        out <- sqlTables(conn, tableType = \"TABLE\",\n",
    "                          tableName = table)\n",
    "        if (nrow(out)>0) {\n",
    "            err <- sqlDrop(conn, table,\n",
    "                            errors=FALSE)  \n",
    "            if (err==-1) {\n",
    "                cat(\"An error has occurred.\\n\")\n",
    "                err.msg <- odbcGetErrMsg(conn)\n",
    "                for (error in err.msg) { \n",
    "                    cat(error,\"\\n\")\n",
    "                }\n",
    "            } \n",
    "            else {\n",
    "                cat (\"Table: \",table,\" was dropped\\n\")\n",
    "            }\n",
    "        }\n",
    "        else {\n",
    "              cat (\"Table: \", table,\" does not exist\\n\")\n",
    "        }\n",
    "    }\n"
   ]
  },
  {
   "cell_type": "code",
   "execution_count": 3,
   "metadata": {},
   "outputs": [
    {
     "name": "stdout",
     "output_type": "stream",
     "text": [
      "Table was created successfully.\n"
     ]
    }
   ],
   "source": [
    "# CROP_DATA:\n",
    "    df1 <- sqlQuery(conn, \"CREATE TABLE CROP_DATA (\n",
    "                                      CD_ID INTEGER NOT NULL,\n",
    "                                      YEAR DATE NOT NULL,\n",
    "                                      CROP_TYPE VARCHAR(20) NOT NULL,\n",
    "                                      GEO VARCHAR(20) NOT NULL, \n",
    "                                      SEEDED_AREA INTEGER NOT NULL,\n",
    "                                      HARVESTED_AREA INTEGER NOT NULL,\n",
    "                                      PRODUCTION INTEGER NOT NULL,\n",
    "                                      AVG_YIELD INTEGER NOT NULL,\n",
    "                                      PRIMARY KEY (CD_ID)\n",
    "                                      )\", \n",
    "                    errors=FALSE\n",
    "                    )\n",
    "\n",
    "    if (df1 == -1){\n",
    "        cat (\"An error has occurred.\\n\")\n",
    "        msg <- odbcGetErrMsg(conn)\n",
    "        print (msg)\n",
    "    } else {\n",
    "        cat (\"Table was created successfully.\\n\")\n",
    "    }"
   ]
  },
  {
   "cell_type": "code",
   "execution_count": 4,
   "metadata": {},
   "outputs": [
    {
     "name": "stdout",
     "output_type": "stream",
     "text": [
      "Table was created successfully.\n"
     ]
    }
   ],
   "source": [
    "# FARM_PRICES:\n",
    "df2 <- sqlQuery(conn, \"CREATE TABLE FARM_PRICES (\n",
    "                                FP_ID INTEGER NOT NULL,\n",
    "                                MONTH DATE NOT NULL,\n",
    "                                CROP_TYPE VARCHAR(20) NOT NULL,\n",
    "                                GEO VARCHAR(20) NOT NULL,\n",
    "                                PRICE_PER_MT FLOAT(6),\n",
    "                                PRIMARY KEY (FP_ID)\n",
    "                                )\",\n",
    "                    errors=FALSE\n",
    "                    )\n",
    "\n",
    "    if (df2 == -1){\n",
    "        cat (\"An error has occurred.\\n\")\n",
    "        msg <- odbcGetErrMsg(conn)\n",
    "        print (msg)\n",
    "    } else {\n",
    "        cat (\"Table was created successfully.\\n\")\n",
    "    } "
   ]
  },
  {
   "cell_type": "code",
   "execution_count": 5,
   "metadata": {},
   "outputs": [
    {
     "name": "stdout",
     "output_type": "stream",
     "text": [
      "Table was created successfully.\n"
     ]
    }
   ],
   "source": [
    "# DAILY_FX:\n",
    "df3 <- sqlQuery(conn, \"CREATE TABLE DAILY_FX (\n",
    "                                DFX_ID INTEGER NOT NULL,\n",
    "                                DATE DATE NOT NULL, \n",
    "                                FXUSDCAD FLOAT(6),\n",
    "                                PRIMARY KEY (DFX_ID)\n",
    "                                )\",\n",
    "                    errors=FALSE\n",
    "                    )\n",
    "\n",
    "    if (df3 == -1){\n",
    "        cat (\"An error has occurred.\\n\")\n",
    "        msg <- odbcGetErrMsg(conn)\n",
    "        print (msg)\n",
    "    } else {\n",
    "        cat (\"Table was created successfully.\\n\")\n",
    "    }"
   ]
  },
  {
   "cell_type": "code",
   "execution_count": 6,
   "metadata": {},
   "outputs": [
    {
     "name": "stdout",
     "output_type": "stream",
     "text": [
      "Table was created successfully.\n"
     ]
    }
   ],
   "source": [
    "# MONTHLY_FX:\n",
    "df4 <- sqlQuery(conn, \"CREATE TABLE MONTHLY_FX (\n",
    "                                MFX_ID INTEGER NOT NULL,\n",
    "                                MONTH DATE NOT NULL, \n",
    "                                FXUSDCAD FLOAT(6),\n",
    "                                PRIMARY KEY (MFX_ID)\n",
    "                                )\",\n",
    "                    errors=FALSE\n",
    "                    )\n",
    "\n",
    "    if (df4 == -1){\n",
    "        cat (\"An error has occurred.\\n\")\n",
    "        msg <- odbcGetErrMsg(conn)\n",
    "        print (msg)\n",
    "    } else {\n",
    "        cat (\"Table was created successfully.\\n\")\n",
    "    }"
   ]
  },
  {
   "cell_type": "markdown",
   "metadata": {},
   "source": [
    "## Problem 2\n",
    "\n",
    "#### Read Datasets and Load Tables\n",
    "\n",
    "Read the datasets into R dataframes using the urls provided above. Then load your tables.\n"
   ]
  },
  {
   "cell_type": "markdown",
   "metadata": {},
   "source": [
    "### Solution 2\n"
   ]
  },
  {
   "cell_type": "code",
   "execution_count": 7,
   "metadata": {},
   "outputs": [
    {
     "ename": "ERROR",
     "evalue": "Error in dimnames(x) <- dn: length of 'dimnames' [2] not equal to array extent\n",
     "execution_count": 7,
     "output_type": "error",
     "traceback": [
      "Error in dimnames(x) <- dn: length of 'dimnames' [2] not equal to array extent\nTraceback:\n",
      "1. sqlSave(conn, crop_data_df, \"CROP_DATA\", append = TRUE, fast = FALSE, \n .     rownames = FALSE, colnames = TRUE, verbose = FALSE)",
      "2. sqlwrite(channel, tablename, dat, verbose = verbose, fast = fast, \n .     test = test, nastring = nastring)",
      "3. `colnames<-`(`*tmp*`, value = colnames)"
     ]
    }
   ],
   "source": [
    "crop_data_df <- read.csv(\"https://cf-courses-data.s3.us.cloud-object-storage.appdomain.cloud/IBM-RP0203EN-SkillsNetwork/labs/Final%20Project/Annual_Crop_Data.csv\")\n",
    "farm_prices_df <- read.csv(\"https://cf-courses-data.s3.us.cloud-object-storage.appdomain.cloud/IBM-RP0203EN-SkillsNetwork/labs/Final%20Project/Monthly_Farm_Prices.csv\")\n",
    "daily_fx_df <- read.csv(\"https://cf-courses-data.s3.us.cloud-object-storage.appdomain.cloud/IBM-RP0203EN-SkillsNetwork/labs/Final%20Project/Daily_FX.csv\")\n",
    "monthly_fx_df <- read.csv(\"https://cf-courses-data.s3.us.cloud-object-storage.appdomain.cloud/IBM-RP0203EN-SkillsNetwork/labs/Final%20Project/Monthly_FX.csv\")\n",
    "\n",
    "\n",
    "sqlSave(conn, crop_data_df, \"CROP_DATA\", append=TRUE, fast=FALSE, rownames=FALSE, colnames=TRUE, verbose=FALSE)\n",
    "sqlSave(conn, farm_prices_df, \"FARM_PRICES\", append=TRUE, fast=FALSE, rownames=FALSE, colnames=FALSE, verbose=FALSE)\n",
    "sqlSave(conn, daily_fx_df, \"DAILY_FX\", append=TRUE, fast=FALSE, rownames=FALSE, colnames=FALSE, verbose=FALSE)\n",
    "sqlSave(conn, monthly_fx_df, \"MONTHLY_FX\", append=TRUE, fast=FALSE, rownames=FALSE, colnames=FALSE, verbose=FALSE)\n"
   ]
  },
  {
   "cell_type": "markdown",
   "metadata": {},
   "source": [
    "## Now execute SQL queries using the RODBC R package to solve the assignment problems.\n",
    "\n",
    "## Problem 3\n",
    "\n",
    "#### How many records are in the farm prices dataset?\n"
   ]
  },
  {
   "cell_type": "markdown",
   "metadata": {},
   "source": [
    "### Solution 3\n"
   ]
  },
  {
   "cell_type": "code",
   "execution_count": null,
   "metadata": {},
   "outputs": [],
   "source": [
    "query = \"SELECT COUNT(FP_ID) FROM FARM_PRICES\"\n",
    "    sqlQuery(conn, query)"
   ]
  },
  {
   "cell_type": "markdown",
   "metadata": {},
   "source": [
    "## Problem 4\n",
    "\n",
    "#### Which geographies are included in the farm prices dataset?\n"
   ]
  },
  {
   "cell_type": "markdown",
   "metadata": {},
   "source": [
    "### Solution 4\n"
   ]
  },
  {
   "cell_type": "code",
   "execution_count": null,
   "metadata": {},
   "outputs": [],
   "source": [
    "distinct_geographies_query <- \"SELECT DISTINCT(GEO) FROM FARM_PRICES;\"\n",
    "distinct_geo <- sqlQuery(conn, distinct_geographies_query)\n",
    "distinct_geo"
   ]
  },
  {
   "cell_type": "markdown",
   "metadata": {},
   "source": [
    "## Problem 5\n",
    "\n",
    "#### How many hectares of Rye were harvested in Canada in 1968?\n"
   ]
  },
  {
   "cell_type": "markdown",
   "metadata": {},
   "source": [
    "### Solution 5\n"
   ]
  },
  {
   "cell_type": "code",
   "execution_count": null,
   "metadata": {},
   "outputs": [],
   "source": [
    "sum_hectares_query <- \"SELECT SUM(HARVESTED_AREA) FROM CROP_DATA WHERE YEAR = 1968 AND CROP_TYPE = 'Rye' AND GEO = 'Canada';\"\n",
    "sum_hectares <- sqlQuery(conn, sum_hectares_query)\n",
    "sum_hectares"
   ]
  },
  {
   "cell_type": "markdown",
   "metadata": {},
   "source": [
    "## Problem 6\n",
    "\n",
    "#### Query and display the first 6 rows of the farm prices table for Rye.\n"
   ]
  },
  {
   "cell_type": "markdown",
   "metadata": {},
   "source": [
    "### Solution 6\n"
   ]
  },
  {
   "cell_type": "code",
   "execution_count": null,
   "metadata": {},
   "outputs": [],
   "source": [
    "limit_rye_query <- \"SELECT * FROM FARM_PRICES WHERE CROP_TYPE = 'Rye' LIMIT 6;\"\n",
    "limit_rye <- sqlQuery(conn, limit_rye_query)\n",
    "limit_rye"
   ]
  },
  {
   "cell_type": "markdown",
   "metadata": {},
   "source": [
    "## Problem 7\n",
    "\n",
    "#### Which provinces grew Barley?\n"
   ]
  },
  {
   "cell_type": "markdown",
   "metadata": {},
   "source": [
    "### Solution 7\n"
   ]
  },
  {
   "cell_type": "code",
   "execution_count": null,
   "metadata": {},
   "outputs": [],
   "source": [
    "barley_provinces_query <- \"SELECT DISTINCT(GEO) FROM CROP_DATA WHERE CROP_TYPE = \"Barley\";\"\n",
    "barley_provinces <- sqlQuery(conn, barley_provinces_query)\n",
    "barley_provinces"
   ]
  },
  {
   "cell_type": "markdown",
   "metadata": {},
   "source": [
    "## Problem 8\n",
    "\n",
    "#### Find the first and last dates for the farm prices data.\n"
   ]
  },
  {
   "cell_type": "markdown",
   "metadata": {},
   "source": [
    "### Solution 8\n"
   ]
  },
  {
   "cell_type": "code",
   "execution_count": null,
   "metadata": {},
   "outputs": [],
   "source": [
    "\n",
    "first_last_dates_query <- \"SELECT MIN(PRICE_DATE) AS FIRST_DATE, MAX(PRICE_DATE) AS LAST_DATE FROM FARM_PRICES;\"\n",
    "first_last_dates <- sqlQuery(conn, first_last_dates_query)\n",
    "first_last_dates"
   ]
  },
  {
   "cell_type": "markdown",
   "metadata": {},
   "source": [
    "## Problem 9\n",
    "\n",
    "#### Which crops have ever reached a farm price greater than or equal to $350 per metric tonne?\n"
   ]
  },
  {
   "cell_type": "markdown",
   "metadata": {},
   "source": [
    "### Solution 9\n"
   ]
  },
  {
   "cell_type": "code",
   "execution_count": null,
   "metadata": {},
   "outputs": [],
   "source": [
    "expensive_crops_query <- \"SELECT CROP_TYPE FROM FARM_PRICES WHERE PRICE >= 350;\"\n",
    "expensive_crops <- sqlQuery(conn, expensive_crops_query)\n",
    "expensive_crops"
   ]
  },
  {
   "cell_type": "markdown",
   "metadata": {},
   "source": [
    "## Problem 10\n",
    "\n",
    "#### Rank the crop types harvested in Saskatchewan in the year 2000 by their average yield. Which crop performed best?\n"
   ]
  },
  {
   "cell_type": "markdown",
   "metadata": {},
   "source": [
    "### Solution 10\n"
   ]
  },
  {
   "cell_type": "code",
   "execution_count": null,
   "metadata": {},
   "outputs": [],
   "source": [
    "rank_crops_query <- \"SELECT CROP_TYPE, AVG_YIELD, RANK() OVER (ORDER BY AVG_YIELD DESC) AS CROP_RANK FROM CROP_DATA WHERE YEAR(YEAR) = 2000 AND GEO = 'Saskatchewan';\"\n",
    "best_crop_query <- \"SELECT CROP_TYPE, AVG_YIELD, RANK() OVER (ORDER BY AVG_YIELD DESC) AS CROP_RANK FROM CROP_DATA WHERE YEAR(YEAR) = 2000 AND GEO = 'Saskatchewan' LIMIT 1;\"\n",
    "\n",
    "rank_crops <- sqlQuery(conn, rank_crops_query)\n",
    "best_crop <- sqlQuery(conn, best_crop_query)\n",
    "\n",
    "rank_crops\n",
    "best_crop"
   ]
  },
  {
   "cell_type": "markdown",
   "metadata": {},
   "source": [
    "## Problem 11\n",
    "\n",
    "#### Rank the crops and geographies by their average yield (KG per hectare) since the year 2000. Which crop and province had the highest average yield since the year 2000?\n"
   ]
  },
  {
   "cell_type": "markdown",
   "metadata": {},
   "source": [
    "### Solution 11\n"
   ]
  },
  {
   "cell_type": "code",
   "execution_count": null,
   "metadata": {},
   "outputs": [],
   "source": [
    "avgyield_rank_query <- \"SELECT CROP_TYPE, GEO, AVG_YIELD, RANK() OVER (ORDER BY AVG_YIELD) AS YIELD_RANK FROM CROP_DATA WHERE YEAR(YEAR) >= 2000'\"\n",
    "avgyield_toprank_query <- \"SELECT CROP_TYPE, GEO, AVG_YIELD, RANK() OVER (ORDER BY AVG_YIELD) AS YIELD_RANK FROM CROP_DATA WHERE YEAR(YEAR) >= 2000 LIMIT 1;\"\n",
    "\n",
    "avgyield_rank <- sqlQuery(conn, avgyield_rank_query)\n",
    "avgyield_toprank <- sqlQuery(conn, avgyield_toprank)\n",
    "\n",
    "avgyield_rank\n",
    "avgyield_toprank"
   ]
  },
  {
   "cell_type": "markdown",
   "metadata": {},
   "source": [
    "## Problem 12\n",
    "\n",
    "#### Use a subquery to determine how much wheat was harvested in Canada in the most recent year of the data.\n"
   ]
  },
  {
   "cell_type": "markdown",
   "metadata": {},
   "source": [
    "### Solution 12\n"
   ]
  },
  {
   "cell_type": "code",
   "execution_count": null,
   "metadata": {},
   "outputs": [],
   "source": [
    "canada_total_wheat_query <- \"SELECT SUM(HARVESTED_AREA) AS CANADA_TOTAL_WHEAT FROM CROP_DATA WHERE CROP_TYPE = 'Wheat' AND YEAR = (SELECT MAX(YEAR) FROM CROP_DATA)\"\n",
    "canada_total_wheat <- sqlQuery(conn, canada_total_wheat_query)\n",
    "canada_total_wheat"
   ]
  },
  {
   "cell_type": "markdown",
   "metadata": {},
   "source": [
    "## Problem 13\n",
    "\n",
    "#### Use an implicit inner join to calculate the monthly price per metric tonne of Canola grown in Saskatchewan in both Canadian and US dollars. Display the most recent 6 months of the data.\n"
   ]
  },
  {
   "cell_type": "markdown",
   "metadata": {},
   "source": [
    "### Solution 13\n"
   ]
  },
  {
   "cell_type": "code",
   "execution_count": null,
   "metadata": {},
   "outputs": [],
   "source": [
    "price_canola_cad_query <- SELECT DISTINCT(PRICE_DATE) * FXUSDCAD, P.DATE FROM MONTHLY_FX F, FARM_PRICES P \n",
    "WHERE CROP_TYPE = 'Canola' AND GEO = 'Saskatchewan'AND P.PRICE_DATE >= (SELECT MAX(P.PRICE_DATE) - 6 MONTHS FROM FARM_PRICES);\n",
    "\n",
    "price_canola_usd_query <- SELECT DISTINCT(PRICE_DATE) FROM MONTHLY_FX F, FARM_PRICES P \n",
    "WHERE CROP_TYPE = 'Canola' AND GEO = 'Saskatchewan' AND P.PRICE_DATE >= (SELECT MAX(P.PRICE_DATE) - 6 MONTHS FROM FARM_PRICES);\n",
    "\n",
    "price_canola_cad <- sqlQuery(conn, price_canola_cad_query)\n",
    "price_canola_usd <- sqlQuery(conn, price_canola_usd)\n",
    "\n",
    "price_canola_cad\n",
    "price_canola_usd"
   ]
  },
  {
   "cell_type": "markdown",
   "metadata": {},
   "source": [
    "## Author(s)\n",
    "\n",
    "<h4> Jeff Grossman </h4>\n",
    "\n",
    "## Contributor(s)\n",
    "\n",
    "<h4> Rav Ahuja </h4>\n",
    "\n",
    "## Change log\n",
    "\n",
    "| Date       | Version | Changed by    | Change Description                                                                                         |\n",
    "| ---------- | ------- | ------------- | ---------------------------------------------------------------------------------------------------------- |\n",
    "| 2021-04-01 | 0.7     | Jeff Grossman | Split Problem 1 solution cell into multiple cells, fixed minor bugs                                        |\n",
    "| 2021-03-12 | 0.6     | Jeff Grossman | Cleaned up content for production                                                                          |\n",
    "| 2021-03-11 | 0.5     | Jeff Grossman | Moved more advanced problems to optional honours module                                                    |\n",
    "| 2021-03-10 | 0.4     | Jeff Grossman | Added introductory and intermediate level problems and removed some advanced problems                      |\n",
    "| 2021-03-04 | 0.3     | Jeff Grossman | Moved some problems to a new practice lab as prep for this assignment                                      |\n",
    "| 2021-03-04 | 0.2     | Jeff Grossman | Sorted problems roughly by level of difficulty and relegated more advanced ones to ungraded bonus problems |\n",
    "| 2021-02-20 | 0.1     | Jeff Grossman | Started content creation                                                                                   |\n",
    "\n",
    "## <h3 align=\"center\"> © IBM Corporation 2021. All rights reserved. <h3/>\n"
   ]
  },
  {
   "cell_type": "code",
   "execution_count": null,
   "metadata": {},
   "outputs": [],
   "source": []
  }
 ],
 "metadata": {
  "kernelspec": {
   "display_name": "R",
   "language": "R",
   "name": "conda-env-r-r"
  },
  "language_info": {
   "codemirror_mode": "r",
   "file_extension": ".r",
   "mimetype": "text/x-r-source",
   "name": "R",
   "pygments_lexer": "r",
   "version": "3.5.1"
  },
  "widgets": {
   "state": {},
   "version": "1.1.2"
  }
 },
 "nbformat": 4,
 "nbformat_minor": 4
}
